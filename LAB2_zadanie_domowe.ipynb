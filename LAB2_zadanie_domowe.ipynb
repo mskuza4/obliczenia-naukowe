{
  "nbformat": 4,
  "nbformat_minor": 0,
  "metadata": {
    "colab": {
      "name": "LAB2 - zadanie domowe",
      "provenance": [],
      "collapsed_sections": []
    },
    "kernelspec": {
      "name": "python3",
      "display_name": "Python 3"
    },
    "language_info": {
      "name": "python"
    }
  },
  "cells": [
    {
      "cell_type": "code",
      "execution_count": null,
      "metadata": {
        "id": "Kc53TXAEr6YG"
      },
      "outputs": [],
      "source": [
        ""
      ]
    },
    {
      "cell_type": "markdown",
      "source": [
        "#### Zadanie 1\n",
        "Niech $L1 = [\"1\", \"10\", \"2\", \"15\", \"22\", \"112\"]$ oraz $L2 = [\"0.5\", \"1\", \"15\", \"22.4\", \"22\", \"211\"]$.\n",
        "\n",
        "Posortuj listy $L1$ i $L2$ zgodnie z wartościami zapisanych liczb (a nie leksykograficznie). Stwórz Listę $L3$, która będzie zawierała wartości liczbowe utworzone poprzez konkatenację napisów z posortowanych list $L1$ oraz $L2$."
      ],
      "metadata": {
        "id": "ENCL_g8HsECL"
      }
    },
    {
      "cell_type": "code",
      "source": [
        "L1=[1, 10, 2, 15, 22, 112]"
      ],
      "metadata": {
        "id": "v4FjR5mosF-A"
      },
      "execution_count": 33,
      "outputs": []
    },
    {
      "cell_type": "code",
      "source": [
        "L2=[0.5, 1, 15, 22.4, 22, 211]"
      ],
      "metadata": {
        "id": "7wYQGePWsGH6"
      },
      "execution_count": 34,
      "outputs": []
    },
    {
      "cell_type": "code",
      "source": [
        "L1.sort(reverse=False)\n",
        "L2.sort(reverse=False)"
      ],
      "metadata": {
        "id": "PoCorE4FsGKc"
      },
      "execution_count": 35,
      "outputs": []
    },
    {
      "cell_type": "code",
      "source": [
        "L1"
      ],
      "metadata": {
        "id": "-gBPsBRzsGNH",
        "colab": {
          "base_uri": "https://localhost:8080/"
        },
        "outputId": "04550f10-668e-4864-df8d-b02449a6ac09"
      },
      "execution_count": 36,
      "outputs": [
        {
          "output_type": "execute_result",
          "data": {
            "text/plain": [
              "[1, 2, 10, 15, 22, 112]"
            ]
          },
          "metadata": {},
          "execution_count": 36
        }
      ]
    },
    {
      "cell_type": "code",
      "source": [
        "L2"
      ],
      "metadata": {
        "id": "lC5CvDttsGPv",
        "colab": {
          "base_uri": "https://localhost:8080/"
        },
        "outputId": "6862f3fc-6210-4c6f-dd1f-528fd2d93c95"
      },
      "execution_count": 37,
      "outputs": [
        {
          "output_type": "execute_result",
          "data": {
            "text/plain": [
              "[0.5, 1, 15, 22, 22.4, 211]"
            ]
          },
          "metadata": {},
          "execution_count": 37
        }
      ]
    },
    {
      "cell_type": "code",
      "source": [
        "print(L1, L2)"
      ],
      "metadata": {
        "colab": {
          "base_uri": "https://localhost:8080/"
        },
        "id": "YzY1F3fJZFfm",
        "outputId": "86a6d53d-c7a6-4c8c-f89d-86491a83925a"
      },
      "execution_count": 42,
      "outputs": [
        {
          "output_type": "stream",
          "name": "stdout",
          "text": [
            "[1, 2, 10, 15, 22, 112] [0.5, 1, 15, 22, 22.4, 211]\n"
          ]
        }
      ]
    },
    {
      "cell_type": "code",
      "source": [
        "print(L1 + L2)"
      ],
      "metadata": {
        "colab": {
          "base_uri": "https://localhost:8080/"
        },
        "id": "DAxYjoBdZNav",
        "outputId": "3940b465-e6c5-42de-e754-ea28f460da2d"
      },
      "execution_count": 43,
      "outputs": [
        {
          "output_type": "stream",
          "name": "stdout",
          "text": [
            "[1, 2, 10, 15, 22, 112, 0.5, 1, 15, 22, 22.4, 211]\n"
          ]
        }
      ]
    },
    {
      "cell_type": "code",
      "source": [
        "L1.extend(L2)"
      ],
      "metadata": {
        "id": "GMkm4XEOZQpQ"
      },
      "execution_count": 44,
      "outputs": []
    },
    {
      "cell_type": "code",
      "source": [
        "print(L1)"
      ],
      "metadata": {
        "colab": {
          "base_uri": "https://localhost:8080/"
        },
        "id": "5Slf58asZdul",
        "outputId": "531dbd5a-9e96-41d6-8248-95d6257b47fb"
      },
      "execution_count": 50,
      "outputs": [
        {
          "output_type": "stream",
          "name": "stdout",
          "text": [
            "[1, 2, 10, 15, 22, 112, 0.5, 1, 15, 22, 22.4, 211]\n"
          ]
        }
      ]
    },
    {
      "cell_type": "code",
      "source": [
        "sorted(L1)"
      ],
      "metadata": {
        "colab": {
          "base_uri": "https://localhost:8080/"
        },
        "id": "2pxVgpKtZl0b",
        "outputId": "eb2165dd-0011-484a-850e-59ca41f82c00"
      },
      "execution_count": 51,
      "outputs": [
        {
          "output_type": "execute_result",
          "data": {
            "text/plain": [
              "[0.5, 1, 1, 2, 10, 15, 15, 22, 22, 22.4, 112, 211]"
            ]
          },
          "metadata": {},
          "execution_count": 51
        }
      ]
    },
    {
      "cell_type": "code",
      "source": [
        "L3 = sorted(L1)"
      ],
      "metadata": {
        "id": "dml4vYOwYLI8"
      },
      "execution_count": 54,
      "outputs": []
    },
    {
      "cell_type": "code",
      "source": [
        "L3"
      ],
      "metadata": {
        "colab": {
          "base_uri": "https://localhost:8080/"
        },
        "id": "wG4tQDinZwL2",
        "outputId": "d3eb1436-edfc-4c7e-ef11-58ef3f33c243"
      },
      "execution_count": 55,
      "outputs": [
        {
          "output_type": "execute_result",
          "data": {
            "text/plain": [
              "[0.5, 1, 1, 2, 10, 15, 15, 22, 22, 22.4, 112, 211]"
            ]
          },
          "metadata": {},
          "execution_count": 55
        }
      ]
    },
    {
      "cell_type": "markdown",
      "source": [
        "#### Zadanie 2\n",
        "Dane są dwie listy upodobań:\n",
        "\n",
        "Jarek = ['koty', 'dobrze zjesc', 'piwo', 'bose spacery po trawie', 'pilka nozna'],\n",
        "\n",
        "Marek = ['piwo', 'psy', 'dobrze zjesc', 'siatkowka', 'seriale'].\n",
        "\n",
        "Na ich podstawie:\n",
        "\n",
        "1.  przygotuj zbiory $Jarek$ i $Marek$, i wyświetl ich zawartość,\n",
        "\n",
        "2.  oblicz sumę ich upodobań, to co wspólnie lubią, to co lubi tylko Jarek, to co lubi tylko Marek i wyświetl ich zawartości"
      ],
      "metadata": {
        "id": "ACNcsNASsGda"
      }
    },
    {
      "cell_type": "code",
      "source": [
        "Jarek = set(['koty', 'dobrze zjesc', 'piwo', 'bose spacery po trawie', 'pilka nozna'])"
      ],
      "metadata": {
        "id": "EJJeCBPrsSkQ"
      },
      "execution_count": 64,
      "outputs": []
    },
    {
      "cell_type": "code",
      "source": [
        "print(Jarek)"
      ],
      "metadata": {
        "id": "wz62PlFtsTJT",
        "colab": {
          "base_uri": "https://localhost:8080/"
        },
        "outputId": "368cae0f-13e7-405b-a5c7-c4267c6dec5e"
      },
      "execution_count": 65,
      "outputs": [
        {
          "output_type": "stream",
          "name": "stdout",
          "text": [
            "{'koty', 'pilka nozna', 'piwo', 'dobrze zjesc', 'bose spacery po trawie'}\n"
          ]
        }
      ]
    },
    {
      "cell_type": "code",
      "source": [
        "Marek = set(['piwo', 'psy', 'dobrze zjesc', 'siatkowka', 'seriale'])"
      ],
      "metadata": {
        "id": "WueBbUhmsTLS"
      },
      "execution_count": 66,
      "outputs": []
    },
    {
      "cell_type": "code",
      "source": [
        "print(Marek)"
      ],
      "metadata": {
        "id": "_iwYcIhvsTNY",
        "colab": {
          "base_uri": "https://localhost:8080/"
        },
        "outputId": "f308a39a-d1ce-4b98-c719-c26c5eb47dc4"
      },
      "execution_count": 67,
      "outputs": [
        {
          "output_type": "stream",
          "name": "stdout",
          "text": [
            "{'seriale', 'siatkowka', 'psy', 'piwo', 'dobrze zjesc'}\n"
          ]
        }
      ]
    },
    {
      "cell_type": "code",
      "source": [
        "wszyscy = Jarek.union(Marek)"
      ],
      "metadata": {
        "id": "ISS8FoMfsTQs"
      },
      "execution_count": 69,
      "outputs": []
    },
    {
      "cell_type": "code",
      "source": [
        "print(len(wszyscy))"
      ],
      "metadata": {
        "colab": {
          "base_uri": "https://localhost:8080/"
        },
        "id": "0vk7BKmKcVbi",
        "outputId": "ae4ab788-8b74-40c5-c240-65675c6ce36b"
      },
      "execution_count": 70,
      "outputs": [
        {
          "output_type": "stream",
          "name": "stdout",
          "text": [
            "8\n"
          ]
        }
      ]
    },
    {
      "cell_type": "code",
      "source": [
        "wspolne = Jarek.intersection(Marek)"
      ],
      "metadata": {
        "id": "14G9Z2Avd1HW"
      },
      "execution_count": 71,
      "outputs": []
    },
    {
      "cell_type": "code",
      "source": [
        "wspolne"
      ],
      "metadata": {
        "colab": {
          "base_uri": "https://localhost:8080/"
        },
        "id": "nJJp9XGGeHBg",
        "outputId": "89f5ae75-3244-486c-ce86-4e88ef9da017"
      },
      "execution_count": 73,
      "outputs": [
        {
          "output_type": "execute_result",
          "data": {
            "text/plain": [
              "{'dobrze zjesc', 'piwo'}"
            ]
          },
          "metadata": {},
          "execution_count": 73
        }
      ]
    },
    {
      "cell_type": "code",
      "source": [
        "print(Marek.difference(Jarek))"
      ],
      "metadata": {
        "colab": {
          "base_uri": "https://localhost:8080/"
        },
        "id": "5Wks-lSIeNHh",
        "outputId": "daea2fde-a3b2-4cc6-a753-df1f1624806b"
      },
      "execution_count": 75,
      "outputs": [
        {
          "output_type": "stream",
          "name": "stdout",
          "text": [
            "{'seriale', 'siatkowka', 'psy'}\n"
          ]
        }
      ]
    },
    {
      "cell_type": "code",
      "source": [
        "print(Jarek.difference(Marek))"
      ],
      "metadata": {
        "colab": {
          "base_uri": "https://localhost:8080/"
        },
        "id": "6zo1DJiheoG8",
        "outputId": "9dc5c3f6-11c4-4877-8886-4a726c626ce9"
      },
      "execution_count": 76,
      "outputs": [
        {
          "output_type": "stream",
          "name": "stdout",
          "text": [
            "{'pilka nozna', 'bose spacery po trawie', 'koty'}\n"
          ]
        }
      ]
    },
    {
      "cell_type": "markdown",
      "source": [
        "#### Zadanie 3\n",
        "Napisz **funkcję** bezargumentową o nazwie listownik(), która\n",
        "* zapyta o długośc listy, która musi znaleźć się w przedziale $[10,20]$ (przypilnuj użytkownika)\n",
        "* wygeneruje  i wydrukuje listę o odpowiedniej długości z liczbami losowymi  przedziału $[0,10]$\n",
        "* **zwróci** liczbę unikalnych wartości w wygenerowanej liście\n",
        "\n",
        "W rozwiązaniu można korzystać z funkcji pomocniczych.\n"
      ],
      "metadata": {
        "id": "gvgzYVq7tVRB"
      }
    },
    {
      "cell_type": "code",
      "source": [
        "def listownik():\n",
        "  dlug = int(input ('Podaj długość listy: '))\n",
        "  while dlug <= 10 or dlug >= 21:\n",
        "    print(\"Długość zbioru musi być zawarta w przedziale 10-20\")\n",
        "    dlug = int(input ('Podaj długość listy: '))\n",
        "  \n"
      ],
      "metadata": {
        "id": "lhi0JLcntXrQ"
      },
      "execution_count": 166,
      "outputs": []
    },
    {
      "cell_type": "code",
      "source": [
        "listownik()"
      ],
      "metadata": {
        "colab": {
          "base_uri": "https://localhost:8080/"
        },
        "id": "13Mc3eDSfmsz",
        "outputId": "ddefad14-5283-48a3-8e2c-efd0444fb0e4"
      },
      "execution_count": 167,
      "outputs": [
        {
          "name": "stdout",
          "output_type": "stream",
          "text": [
            "Podaj długość listy: 21\n",
            "Długość zbioru musi być zawarta w przedziale 10-20\n",
            "Podaj długość listy: 1\n",
            "Długość zbioru musi być zawarta w przedziale 10-20\n",
            "Podaj długość listy: 12\n"
          ]
        }
      ]
    }
  ]
}